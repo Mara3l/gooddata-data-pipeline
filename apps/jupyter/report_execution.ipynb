{
 "cells": [
  {
   "cell_type": "markdown",
   "metadata": {},
   "source": [
    "# Demo for how GoodData Python SDK can be used inside notebooks\n",
    "\n",
    "[GoodData Python SDK](https://www.gooddata.com/docs/cloud/api-and-sdk/python-sdk/) is an open-source set of libraries derived from GoodData OpenAPI specification.\n",
    "It provides an additional layer of abstraction on top of the raw APIs.\n",
    "Besides gooddata-sdk (core) library, we provide gooddata-pandas exposing report results as data frames."
   ]
  },
  {
   "cell_type": "markdown",
   "metadata": {},
   "source": [
    "## Import libraries"
   ]
  },
  {
   "cell_type": "code",
   "execution_count": null,
   "metadata": {
    "pycharm": {
     "is_executing": true
    }
   },
   "outputs": [],
   "source": [
    "from pathlib import Path\n",
    "import pandas as pd \n",
    "from gooddata_sdk import GoodDataSdk\n",
    "from gooddata_pandas import GoodPandas"
   ]
  },
  {
   "cell_type": "markdown",
   "metadata": {},
   "source": [
    "## Init GoodData"
   ]
  },
  {
   "cell_type": "code",
   "execution_count": null,
   "metadata": {
    "pycharm": {
     "is_executing": true
    }
   },
   "outputs": [],
   "source": [
    "current_profile = \"demo_cicd_dev\"\n",
    "workspace_id = \"cicd_demo_development_motherduck\"\n",
    "profiles= Path.home() / \".gooddata\" / \"profiles.yaml\"\n",
    "\n",
    "gd_sdk = GoodDataSdk.create_from_profile(profile=current_profile, profiles_path=profiles)\n",
    "gd_pandas = GoodPandas.create_from_profile(profile=current_profile, profiles_path=profiles)\n",
    "gd_frames = gd_pandas.data_frames(workspace_id)"
   ]
  },
  {
   "cell_type": "markdown",
   "metadata": {},
   "source": [
    "## List Metrics in a Workspace"
   ]
  },
  {
   "cell_type": "code",
   "execution_count": null,
   "metadata": {
    "pycharm": {
     "is_executing": true
    }
   },
   "outputs": [],
   "source": [
    "metrics = gd_sdk.catalog_workspace_content.get_metrics_catalog(workspace_id)\n",
    "metrics_list = [{\"id\": m.id, \"title\": m.title} for m in metrics]\n",
    "df = pd.DataFrame(metrics_list)\n",
    "df"
   ]
  },
  {
   "cell_type": "markdown",
   "metadata": {},
   "source": [
    "## Execute Already Defined Report"
   ]
  },
  {
   "cell_type": "code",
   "execution_count": null,
   "metadata": {
    "pycharm": {
     "is_executing": true
    }
   },
   "outputs": [],
   "source": [
    "insight_df = gd_frames.for_visualization('merged_prs_month')\n",
    "insight_df"
   ]
  },
  {
   "cell_type": "markdown",
   "metadata": {},
   "source": [
    "## Execute a Custom Report"
   ]
  },
  {
   "cell_type": "code",
   "execution_count": null,
   "metadata": {
    "pycharm": {
     "is_executing": true
    }
   },
   "outputs": [],
   "source": [
    "from gooddata_sdk import ExecutionDefinition, Attribute, SimpleMetric, ObjId, RelativeDateFilter, TableDimension\n",
    "exec_def = ExecutionDefinition(\n",
    "    attributes=[\n",
    "        Attribute(local_id=\"created_at\", label=\"created_at.month\"),\n",
    "        Attribute(local_id=\"repo_name\", label=\"repo_name\"),\n",
    "    ],\n",
    "    metrics=[\n",
    "        SimpleMetric(local_id=\"count_commits\", item=ObjId(id=\"commit_id\", type=\"label\"), aggregation=\"COUNT\"),\n",
    "        SimpleMetric(local_id=\"count_pull_requests\", item=ObjId(id=\"count_pull_requests\", type=\"metric\")),\n",
    "    ],\n",
    "    filters=[RelativeDateFilter(dataset=ObjId(id=\"created_at\", type=\"dataset\"), granularity=\"YEAR\", from_shift=-2, to_shift=0)],\n",
    "    dimensions=[TableDimension(item_ids=[\"created_at\"]), TableDimension(item_ids=[\"repo_name\", \"measureGroup\"])],\n",
    ")\n",
    "df, df_metadata = gd_frames.for_exec_def(exec_def=exec_def)\n",
    "\n",
    "# use result ID from computation above and generate dataframe just from it\n",
    "df_from_result_id, df_metadata_from_result_id = gd_frames.for_exec_result_id(\n",
    "    result_id=df_metadata.execution_response.result_id,\n",
    ")\n",
    "df_from_result_id"
   ]
  },
  {
   "cell_type": "markdown",
   "metadata": {},
   "source": [
    "## Conclusion\n",
    "\n",
    "This notebook is just a quick onboarding into how to leverage GoodData Python SDK libraries in a notebook.\n",
    "I recommend you to check our [DOC](https://www.gooddata.com/docs/cloud/api-and-sdk/python-sdk/) for more details.\n",
    "I tested the same approach in DeepNote and it worked.\n",
    "There is no reason why it should work in any other notebook."
   ]
  }
 ],
 "metadata": {
  "kernelspec": {
   "display_name": "Python 3 (ipykernel)",
   "language": "python",
   "name": "python3"
  },
  "language_info": {
   "codemirror_mode": {
    "name": "ipython",
    "version": 3
   },
   "file_extension": ".py",
   "mimetype": "text/x-python",
   "name": "python",
   "nbconvert_exporter": "python",
   "pygments_lexer": "ipython3",
   "version": "3.12.3"
  }
 },
 "nbformat": 4,
 "nbformat_minor": 4
}
